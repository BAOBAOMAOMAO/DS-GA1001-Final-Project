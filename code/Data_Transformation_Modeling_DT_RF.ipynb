{
 "cells": [
  {
   "cell_type": "code",
   "execution_count": 124,
   "metadata": {},
   "outputs": [
    {
     "data": {
      "text/plain": [
       "21"
      ]
     },
     "execution_count": 124,
     "metadata": {},
     "output_type": "execute_result"
    }
   ],
   "source": [
    "import pandas as pd\n",
    "import numpy as np\n",
    "\n",
    "# Code here\n",
    "# colnames = [\"age\",\"job\",\"marital\",\"education\", \"default\", \"balance\", \"housing\", \"loan\", \"contact\",\"day\",\"month\",\"duration\",\"campaign\",\"pdays\",\"previous\",\"poutcome\",\"y\"]\n",
    "df = pd.read_csv(\"./bank-additional/bank-additional-full.csv\", sep=';')\n",
    "\n",
    "# Create a new data set with y transfored to binary data\n",
    "\n",
    "def transform(string):\n",
    "    if string==\"yes\":\n",
    "        return 1\n",
    "    else:\n",
    "        return 0\n",
    "\n",
    "y_trans = df['y'].apply(transform)\n",
    "new_df = df\n",
    "new_df['y'] = y_trans\n",
    "new_df.head(5)\n",
    "\n",
    "len(df.columns)"
   ]
  },
  {
   "cell_type": "markdown",
   "metadata": {},
   "source": [
    "### Preprocessing \n",
    "Now do the proprocessing first"
   ]
  },
  {
   "cell_type": "code",
   "execution_count": 126,
   "metadata": {},
   "outputs": [
    {
     "name": "stdout",
     "output_type": "stream",
     "text": [
      "job\n",
      "admin.           10422\n",
      "blue-collar       9254\n",
      "entrepreneur      1456\n",
      "housemaid         1060\n",
      "management        2924\n",
      "retired           1720\n",
      "self-employed     1421\n",
      "services          3969\n",
      "student            875\n",
      "technician        6743\n",
      "unemployed        1014\n",
      "unknown            330\n",
      "dtype: int64\n",
      "marital\n",
      "divorced     4612\n",
      "married     24928\n",
      "single      11568\n",
      "unknown        80\n",
      "dtype: int64\n",
      "education\n",
      "basic.4y                4176\n",
      "basic.6y                2292\n",
      "basic.9y                6045\n",
      "high.school             9515\n",
      "illiterate                18\n",
      "professional.course     5243\n",
      "university.degree      12168\n",
      "unknown                 1731\n",
      "dtype: int64\n",
      "default\n",
      "no         32588\n",
      "unknown     8597\n",
      "yes            3\n",
      "dtype: int64\n",
      "housing\n",
      "no         18622\n",
      "unknown      990\n",
      "yes        21576\n",
      "dtype: int64\n",
      "loan\n",
      "no         33950\n",
      "unknown      990\n",
      "yes         6248\n",
      "dtype: int64\n",
      "contact\n",
      "cellular     26144\n",
      "telephone    15044\n",
      "dtype: int64\n",
      "month\n",
      "apr     2632\n",
      "aug     6178\n",
      "dec      182\n",
      "jul     7174\n",
      "jun     5318\n",
      "mar      546\n",
      "may    13769\n",
      "nov     4101\n",
      "oct      718\n",
      "sep      570\n",
      "dtype: int64\n",
      "day_of_week\n",
      "fri    7827\n",
      "mon    8514\n",
      "thu    8623\n",
      "tue    8090\n",
      "wed    8134\n",
      "dtype: int64\n",
      "poutcome\n",
      "failure         4252\n",
      "nonexistent    35563\n",
      "success         1373\n",
      "dtype: int64\n"
     ]
    }
   ],
   "source": [
    "# examine all variables that are object, store them in a list\n",
    "obj_col_list = []\n",
    "for column in new_df.columns:\n",
    "    if new_df.dtypes[column] == 'object':\n",
    "        print(new_df.groupby([column]).size())\n",
    "        obj_col_list.append(column)"
   ]
  },
  {
   "cell_type": "markdown",
   "metadata": {},
   "source": [
    "### Preprocessing\n",
    "\n",
    "1. One-hot encoding of categorical variables"
   ]
  },
  {
   "cell_type": "code",
   "execution_count": 127,
   "metadata": {
    "collapsed": true
   },
   "outputs": [],
   "source": [
    "from sklearn import preprocessing\n",
    "from sklearn.preprocessing import LabelEncoder\n",
    "from sklearn.preprocessing import OneHotEncoder\n",
    "\n",
    "# a function to do one-hot-encoding for categorical variables\n",
    "# input is an nparray of categorical values, ncol = 1, nrow = len(dataset)\n",
    "# output is a pd dataframe of one-hot vectors. ncol = number of categoreis, nrow = len(dataset)\n",
    "def one_hot_encoding(values):\n",
    "    # first do the one-hot encoding. return a np array of vectors.\n",
    "    ori_index = values.index\n",
    "    label_encoder = LabelEncoder()\n",
    "    integer_encoded = label_encoder.fit_transform(values) #  \n",
    "    onehot_encoder = OneHotEncoder(sparse=False)\n",
    "    integer_encoded = integer_encoded.reshape(len(integer_encoded), 1)\n",
    "    onehot_encoded = onehot_encoder.fit_transform(integer_encoded)\n",
    "    \n",
    "    # then transform the vector into pd dataframe with proper column names\n",
    "    col_names = [values.name + '_' + x for x in label_encoder.classes_.tolist()]\n",
    "    one_hot_encoding_df = pd.DataFrame(onehot_encoded.tolist(), columns = col_names, index = ori_index)\n",
    "\n",
    "    return one_hot_encoding_df"
   ]
  },
  {
   "cell_type": "code",
   "execution_count": 128,
   "metadata": {
    "collapsed": true
   },
   "outputs": [],
   "source": [
    "def integer_encoding(values):\n",
    "    # first do the one-hot encoding. return a np array of vectors.\n",
    "    ori_index = values.index\n",
    "    label_encoder = LabelEncoder()\n",
    "    integer_encoded = label_encoder.fit_transform(values) #  \n",
    "    return integer_encoded"
   ]
  },
  {
   "cell_type": "code",
   "execution_count": 129,
   "metadata": {},
   "outputs": [
    {
     "data": {
      "text/plain": [
       "['job',\n",
       " 'marital',\n",
       " 'education',\n",
       " 'default',\n",
       " 'housing',\n",
       " 'loan',\n",
       " 'contact',\n",
       " 'month',\n",
       " 'day_of_week',\n",
       " 'poutcome']"
      ]
     },
     "execution_count": 129,
     "metadata": {},
     "output_type": "execute_result"
    }
   ],
   "source": [
    "obj_col_list"
   ]
  },
  {
   "cell_type": "code",
   "execution_count": 132,
   "metadata": {},
   "outputs": [
    {
     "data": {
      "text/plain": [
       "(41188, 11)"
      ]
     },
     "execution_count": 132,
     "metadata": {},
     "output_type": "execute_result"
    }
   ],
   "source": [
    "# This part does the transformation of one-hot vectors\n",
    "num_col_list = list(set(new_df.columns).difference(obj_col_list)) # the list of columns that are of numerical values\n",
    "num_col_list\n",
    "new_df_num = new_df[num_col_list]\n",
    "new_df_num.shape"
   ]
  },
  {
   "cell_type": "code",
   "execution_count": 133,
   "metadata": {},
   "outputs": [],
   "source": [
    "for col in obj_col_list:\n",
    "    df_mini = one_hot_encoding(new_df[col])\n",
    "    new_df_num = pd.concat([new_df_num, df_mini], axis=1, join_axes=[new_df_num.index])"
   ]
  },
  {
   "cell_type": "code",
   "execution_count": 134,
   "metadata": {
    "scrolled": false
   },
   "outputs": [
    {
     "data": {
      "text/plain": [
       "(41188, 64)"
      ]
     },
     "execution_count": 134,
     "metadata": {},
     "output_type": "execute_result"
    }
   ],
   "source": [
    "new_df_num.shape"
   ]
  },
  {
   "cell_type": "markdown",
   "metadata": {},
   "source": [
    "##### Split data here"
   ]
  },
  {
   "cell_type": "code",
   "execution_count": 135,
   "metadata": {
    "collapsed": true
   },
   "outputs": [],
   "source": [
    "## Here we split the data\n",
    "train_df = new_df_num.sample(frac = 0.8, replace = False) \n",
    "test_df = new_df_num[~df.index.isin(train_df.index)]\n",
    "# train_df.head(5)"
   ]
  },
  {
   "cell_type": "code",
   "execution_count": 136,
   "metadata": {},
   "outputs": [
    {
     "data": {
      "text/plain": [
       "(32950, 64)"
      ]
     },
     "execution_count": 136,
     "metadata": {},
     "output_type": "execute_result"
    }
   ],
   "source": [
    "train_df.shape"
   ]
  },
  {
   "cell_type": "code",
   "execution_count": 137,
   "metadata": {},
   "outputs": [
    {
     "data": {
      "text/plain": [
       "(8238, 64)"
      ]
     },
     "execution_count": 137,
     "metadata": {},
     "output_type": "execute_result"
    }
   ],
   "source": [
    "test_df.shape"
   ]
  },
  {
   "cell_type": "markdown",
   "metadata": {},
   "source": [
    "Prepare for fitting a model."
   ]
  },
  {
   "cell_type": "code",
   "execution_count": 138,
   "metadata": {
    "collapsed": true
   },
   "outputs": [],
   "source": [
    "# fit a classification tree\n",
    "train_features = train_df_num.drop(labels = 'y', axis = 1)\n",
    "train_target = train_df_num['y']\n",
    "test_features = test_df_num.drop(labels = 'y', axis = 1)\n",
    "test_target = test_df_num['y']"
   ]
  },
  {
   "cell_type": "markdown",
   "metadata": {
    "collapsed": true
   },
   "source": [
    "### Logistic regression\n",
    "The binary classification goal is to predict if the client will subscribe a bank term deposit (variable y)."
   ]
  },
  {
   "cell_type": "code",
   "execution_count": null,
   "metadata": {
    "collapsed": true
   },
   "outputs": [],
   "source": []
  },
  {
   "cell_type": "markdown",
   "metadata": {},
   "source": [
    "### Decision Tree"
   ]
  },
  {
   "cell_type": "code",
   "execution_count": 57,
   "metadata": {
    "collapsed": true
   },
   "outputs": [],
   "source": [
    "import sklearn\n",
    "from sklearn.tree import DecisionTreeClassifier\n",
    "from sklearn.metrics import roc_auc_score\n",
    "\n",
    "# defines a classification tree\n",
    "def testTrees(X_train,y_train,X_test,y_test,dep,leaf,auc):\n",
    "    clf = DecisionTreeClassifier(criterion='entropy',min_samples_leaf=leaf,max_depth=dep)\n",
    "    clf = clf.fit(X_train,y_train)\n",
    "    if (auc==0):\n",
    "        cm = confusion_matrix(clf.predict(X_test),y_test)\n",
    "        return (cm[0][0]+cm[1][1])/float(sum(cm))\n",
    "    else:\n",
    "        return roc_auc_score(y_test,clf.predict_proba(X_test)[:,1])"
   ]
  },
  {
   "cell_type": "code",
   "execution_count": 58,
   "metadata": {},
   "outputs": [
    {
     "data": {
      "text/plain": [
       "<matplotlib.text.Text at 0x1195a6240>"
      ]
     },
     "execution_count": 58,
     "metadata": {},
     "output_type": "execute_result"
    }
   ],
   "source": [
    "import matplotlib.pyplot as plt\n",
    "\n",
    "lab='y_buy'\n",
    "\n",
    "depths=[4,5,10,20]\n",
    "leaves=np.arange(1,101)\n",
    "\n",
    "#Run all of the options\n",
    "run=1\n",
    "if (run==1):\n",
    "    #Initialize dictionary of results\n",
    "    res=dict()\n",
    "    for d in depths:\n",
    "        res[d]=list()\n",
    "\n",
    "    #Now train and get results for each option\n",
    "    for d in depths:\n",
    "        for l in leaves:\n",
    "            res[d].append(testTrees(train_features,train_target,test_features,test_target, d, l, 1))\n",
    "\n",
    "\n",
    "#Now plot            \n",
    "fig = plt.figure()\n",
    "ax=fig.add_subplot(111)\n",
    "plt.plot(leaves,res[depths[0]],'b-',label='Depth={}'.format(depths[0]))\n",
    "plt.plot(leaves,res[depths[1]],'r-',label='Depth={}'.format(depths[1]))\n",
    "plt.plot(leaves,res[depths[2]],'y-',label='Depth={}'.format(depths[2]))\n",
    "plt.plot(leaves,res[depths[3]],'g-',label='Depth={}'.format(depths[3]))\n",
    "plt.legend(loc=4)\n",
    "ax.set_xlabel('Min Leaf Size')\n",
    "ax.set_ylabel('Test Set AUC')\n",
    "plt.title('Holdout AUC by Hyperparameters')"
   ]
  },
  {
   "cell_type": "code",
   "execution_count": 59,
   "metadata": {
    "scrolled": false
   },
   "outputs": [
    {
     "data": {
      "image/png": "[encoded data removed]",
      "text/plain": [
       "<matplotlib.figure.Figure at 0x118c632e8>"
      ]
     },
     "metadata": {},
     "output_type": "display_data"
    }
   ],
   "source": [
    "plt.show()"
   ]
  },
  {
   "cell_type": "markdown",
   "metadata": {},
   "source": [
    "### Now it's random forest"
   ]
  },
  {
   "cell_type": "code",
   "execution_count": 65,
   "metadata": {},
   "outputs": [],
   "source": [
    "from sklearn.ensemble import RandomForestClassifier\n",
    "from sklearn.tree import DecisionTreeClassifier\n",
    "import pandas as pd\n",
    "# import course_utils as bd\n",
    "# imp.reload(bd)"
   ]
  },
  {
   "cell_type": "code",
   "execution_count": 113,
   "metadata": {},
   "outputs": [],
   "source": [
    "# We'll build a RF and compare to a DT\n",
    "clf_def = DecisionTreeClassifier(criterion='entropy', min_samples_leaf = 20)\n",
    "clf_def = clf_def.fit(train_features, train_target)\n",
    "# dt_pred = clf_def.predict_proba(test_features)\n",
    "dt_pred = clf_def.predict(test_features)\n",
    "\n",
    "rf_def = RandomForestClassifier(criterion='entropy', n_estimators=100)\n",
    "rf_def = rf_def.fit(train_features, train_target)\n",
    "# rf_pred = rf_def.predict_proba(test_features)\n",
    "rf_pred = rf_def.predict(test_features)"
   ]
  },
  {
   "cell_type": "code",
   "execution_count": 102,
   "metadata": {
    "collapsed": true
   },
   "outputs": [],
   "source": [
    "# A function to plot AUC, from course Git\n",
    "\n",
    "def plotAUC(truth, pred, lab):\n",
    "    fpr, tpr, thresholds = roc_curve(truth, pred)\n",
    "    roc_auc = auc(fpr, tpr)\n",
    "    c = (np.random.rand(), np.random.rand(), np.random.rand())\n",
    "    plt.plot(fpr, tpr, color=c, label= lab+' (AUC = %0.2f)' % roc_auc)\n",
    "    plt.plot([0, 1], [0, 1], 'k--')\n",
    "    plt.xlim([0.0, 1.0])\n",
    "    plt.ylim([0.0, 1.0])\n",
    "    plt.xlabel('FPR')\n",
    "    plt.ylabel('TPR')\n",
    "    plt.title('ROC')\n",
    "    plt.legend(loc=\"lower right\")"
   ]
  },
  {
   "cell_type": "code",
   "execution_count": 114,
   "metadata": {
    "scrolled": false
   },
   "outputs": [
    {
     "data": {
      "image/png": "[encoded data removed]",
      "text/plain": [
       "<matplotlib.figure.Figure at 0x11bf677f0>"
      ]
     },
     "metadata": {},
     "output_type": "display_data"
    }
   ],
   "source": [
    "from sklearn.metrics import roc_curve, auc, roc_auc_score\n",
    "\n",
    "plotAUC(test_target, dt_pred, 'DT')\n",
    "plotAUC(test_target, rf_pred, 'RF')\n",
    "plt.show()"
   ]
  }
 ],
 "metadata": {
  "kernelspec": {
   "display_name": "Python 3",
   "language": "python",
   "name": "python3"
  },
  "language_info": {
   "codemirror_mode": {
    "name": "ipython",
    "version": 3
   },
   "file_extension": ".py",
   "mimetype": "text/x-python",
   "name": "python",
   "nbconvert_exporter": "python",
   "pygments_lexer": "ipython3",
   "version": "3.6.4"
  }
 },
 "nbformat": 4,
 "nbformat_minor": 2
}
